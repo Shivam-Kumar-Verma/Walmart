{
 "cells": [
  {
   "cell_type": "code",
   "execution_count": 1,
   "id": "b0abde14",
   "metadata": {},
   "outputs": [],
   "source": [
    "import pandas as pd\n",
    "import numpy as np\n",
    "from sklearn.linear_model import LogisticRegression\n",
    "import difflib\n",
    "from collections import defaultdict"
   ]
  },
  {
   "cell_type": "code",
   "execution_count": null,
   "id": "b639d660",
   "metadata": {},
   "outputs": [],
   "source": [
    "# class EcoCartRecommender:\n",
    "#     def __init__(self, product_file, event_file, profile_file):\n",
    "#         self.products = pd.read_csv(product_file)\n",
    "#         self.events = pd.read_csv(event_file)\n",
    "#         self.profiles = pd.read_csv(profile_file)\n",
    "\n",
    "#         self.popularity = self._compute_popularity()\n",
    "#         self.model = self._train_score_model()\n",
    "\n",
    "#         self.tier_weights = {\n",
    "#             'Bronze': {'eco_score': 1.0, 'refurbished': 1.0, 'popularity': 1.0},\n",
    "#             'Silver': {'eco_score': 1.2, 'refurbished': 1.2, 'popularity': 1.0},\n",
    "#             'Gold': {'eco_score': 1.4, 'refurbished': 1.4, 'popularity': 0.9},\n",
    "#             'Platinum': {'eco_score': 1.6, 'refurbished': 1.6, 'popularity': 0.8}\n",
    "#         }\n",
    "\n",
    "#     def _compute_popularity(self):\n",
    "#         pop = self.events.groupby('itemID')['event_type'].value_counts().unstack().fillna(0)\n",
    "#         pop['popularity_score'] = 1 * pop.get('view', 0) + 2 * pop.get('cart', 0) + 3 * pop.get('purchase', 0)\n",
    "#         return pop['popularity_score']\n",
    "\n",
    "#     def _generate_training_data(self):\n",
    "#         merged = self.events.merge(self.products, on='itemID')\n",
    "#         merged = merged.merge(self.profiles, on='user_id')\n",
    "\n",
    "#         merged['popularity'] = merged['itemID'].map(self.popularity).fillna(0)\n",
    "#         merged['eco_score'] = merged['Total(kg CO2e)']\n",
    "#         merged['eco_score_norm'] = (merged['eco_score'] - merged['eco_score'].min()) / (merged['eco_score'].max() - merged['eco_score'].min())\n",
    "\n",
    "#         merged['category_match'] = 1\n",
    "#         merged['refurbished'] = merged['refurbished_available']\n",
    "#         merged['price_penalty'] = merged['price'] / merged['avg_spend']\n",
    "\n",
    "#         merged['label'] = merged['event_type'].apply(lambda x: 1 if x in ['purchase', 'cart'] else 0)\n",
    "\n",
    "#         features = merged[['popularity', 'eco_score_norm', 'category_match', 'refurbished', 'price_penalty']]\n",
    "#         labels = merged['label']\n",
    "#         return features, labels\n",
    "\n",
    "#     def _train_score_model(self):\n",
    "#         X, y = self._generate_training_data()\n",
    "#         model = LogisticRegression()\n",
    "#         model.fit(X, y)\n",
    "#         return model\n",
    "\n",
    "#     def _compute_features(self, product_row, user_profile, user_tier, green_mode=True):\n",
    "#         pop = self.popularity.get(product_row['itemID'], 0)\n",
    "#         eco_score = product_row['Total(kg CO2e)']\n",
    "#         eco_score_norm = (eco_score - self.products['Total(kg CO2e)'].min()) / (self.products['Total(kg CO2e)'].max() - self.products['Total(kg CO2e)'].min())\n",
    "#         category_match = 1\n",
    "#         refurbished = product_row['refurbished_available']\n",
    "#         price_penalty = product_row['price'] / user_profile['avg_spend']\n",
    "\n",
    "#         weights = self.tier_weights.get(user_tier, self.tier_weights['Bronze']) if green_mode else {'eco_score': 1.0, 'refurbished': 1.0, 'popularity': 1.0}\n",
    "\n",
    "\n",
    "#         return pd.DataFrame([[pop * weights['popularity'], eco_score_norm * weights['eco_score'], category_match, refurbished * weights['refurbished'], price_penalty]], \n",
    "#                             columns=['popularity', 'eco_score_norm', 'category_match', 'refurbished', 'price_penalty'])\n",
    "\n",
    "#     def recommend_for_user(self, user_id, top_n=10, green_mode=True, search_query=None):\n",
    "#         user_profile = self.profiles[self.profiles['user_id'] == user_id].squeeze()\n",
    "#         reward_engine = RewardEngine(\"Dataset/Synthetic_Dataset/user_green_engagement_logs.csv\") # Equivalent to the user behavior file\n",
    "#         user_tier = reward_engine.get_user_tier(user_id)\n",
    "\n",
    "#         scores = []\n",
    "\n",
    "#         if search_query:\n",
    "#             search_query_lower = search_query.lower()\n",
    "#             product_types = self.products['Product'].dropna().unique()\n",
    "#             match = difflib.get_close_matches(search_query_lower, product_types, n=1, cutoff=0.3)\n",
    "#             matched_category = match[0] if match else None\n",
    "\n",
    "#             main_products = self.products[self.products['Product'].str.lower() == matched_category.lower()] if matched_category else pd.DataFrame()\n",
    "#             alt_products = self.products[self.products['Product'].str.lower() != matched_category.lower()] if matched_category else self.products\n",
    "\n",
    "#             filtered_products = pd.concat([main_products, alt_products])\n",
    "#         else:\n",
    "#             filtered_products = self.products\n",
    "\n",
    "#         for _, row in filtered_products.iterrows():\n",
    "#             features = self._compute_features(row, user_profile, user_tier, green_mode)\n",
    "#             score = self.model.predict_proba(features)[0][1]\n",
    "#             scores.append((score, row))\n",
    "\n",
    "#         if search_query and matched_category:\n",
    "#             same_cat = [(s, r) for s, r in scores if r['Product'].lower() == matched_category.lower()]\n",
    "#             same_cat_sorted = sorted(same_cat, key=lambda x: (-x[0], x[1]['Total(kg CO2e)']))\n",
    "\n",
    "#             same_cat_ids = {r['itemID'] for _, r in same_cat}\n",
    "#             same_cat_low = [(s, r) for s, r in scores if r['Product'].lower() == matched_category.lower() and r['itemID'] not in same_cat_ids]\n",
    "#             same_cat_low_sorted = sorted(same_cat_low, key=lambda x: x[1]['Total(kg CO2e)'])\n",
    "\n",
    "#             other_cat = [(s, r) for s, r in scores if r['Product'].lower() != matched_category.lower()]\n",
    "#             other_cat_sorted = sorted(other_cat, key=lambda x: x[1]['Total(kg CO2e)'])\n",
    "\n",
    "#             top_items = [r for _, r in same_cat_sorted[:top_n]]\n",
    "#             remaining = top_n - len(top_items)\n",
    "#             if remaining > 0:\n",
    "#                 top_items += [r for _, r in same_cat_low_sorted[:remaining]]\n",
    "#                 remaining = top_n - len(top_items)\n",
    "#                 if remaining > 0:\n",
    "#                     top_items += [r for _, r in other_cat_sorted[:remaining]]\n",
    "#         else:\n",
    "#             if green_mode:\n",
    "#                 sorted_items = sorted(scores, key=lambda x: (-x[0], x[1]['Total(kg CO2e)']))\n",
    "#             else:\n",
    "#                 sorted_items = sorted(scores, key=lambda x: -x[0])\n",
    "#             top_items = [r for _, r in sorted_items[:top_n]]\n",
    "\n",
    "#         top_items_df = pd.DataFrame(top_items)\n",
    "#         return top_items_df[['itemID', 'Product', 'Variety/Size', 'Brand', 'price', 'Total(kg CO2e)', 'refurbished_available']]\n",
    "\n",
    "\n",
    "# class RewardEngine:\n",
    "#     def __init__(self, behavior_file):\n",
    "#         self.behavior = pd.read_csv(behavior_file)\n",
    "\n",
    "#     def calculate_rewards(self):\n",
    "#         user_rewards = defaultdict(int)\n",
    "\n",
    "#         for _, row in self.behavior.iterrows():\n",
    "#             eco_score = row['eco_score']\n",
    "#             base_reward = max(0, 450 - eco_score) / 45\n",
    "\n",
    "#             if row['refurbished']:\n",
    "#                 base_reward += 2\n",
    "#             if row['delivery_type'] == 'delayed':\n",
    "#                 base_reward += 1\n",
    "#             if row['used_green_toggle']:\n",
    "#                 base_reward += 0.5\n",
    "\n",
    "#             user_rewards[row['user_id']] += round(base_reward, 2)\n",
    "\n",
    "#         return pd.DataFrame(list(user_rewards.items()), columns=['user_id', 'eco_points'])\n",
    "\n",
    "#     def get_user_tier(self, user_id):\n",
    "#         df = self.calculate_rewards()\n",
    "#         points = df[df['user_id'] == user_id]['eco_points']\n",
    "#         if points.empty:\n",
    "#             return 'Bronze'\n",
    "#         score = points.values[0]\n",
    "\n",
    "#         if score >= 100:\n",
    "#             return 'Platinum'\n",
    "#         elif score >= 50:\n",
    "#             return 'Gold'\n",
    "#         elif score >= 20:\n",
    "#             return 'Silver'\n",
    "#         else:\n",
    "#             return 'Bronze'\n",
    "        \n",
    "#     def get_user_perks(self, user_id):\n",
    "#         tier = self.get_user_tier(user_id)\n",
    "\n",
    "#         perks = {\n",
    "#             'Bronze': [\n",
    "#                 \"Start earning by using green mode toggle.\",\n",
    "#                 \"Buy refurbished or delay delivery to earn more points.\"\n",
    "#             ],\n",
    "#             'Silver': [\n",
    "#                 \"5% discount on refurbished items.\",\n",
    "#                 \"Bonus 0.5 pts for every green mode interaction.\"\n",
    "#             ],\n",
    "#             'Gold': [\n",
    "#                 \"10% discount on green deliveries.\",\n",
    "#                 \"Early access to eco-friendly offers.\"\n",
    "#             ],\n",
    "#             'Platinum': [\n",
    "#                 \"Free shipping on refurbished products.\",\n",
    "#                 \"Exclusive platinum-only deals every month.\",\n",
    "#                 \"15% discount on green delivery items.\"\n",
    "#             ]\n",
    "#         }\n",
    "\n",
    "#         return perks.get(tier, [])\n"
   ]
  },
  {
   "cell_type": "code",
   "execution_count": 2,
   "id": "56e87e27",
   "metadata": {},
   "outputs": [],
   "source": [
    "## Better version with vectorized operations and improved search handling\n",
    "\n",
    "class EcoCartRecommender:\n",
    "    def __init__(self, product_file, event_file, profile_file):\n",
    "        self.products = pd.read_csv(product_file)\n",
    "        self.events = pd.read_csv(event_file)\n",
    "        self.profiles = pd.read_csv(profile_file)\n",
    "\n",
    "        self.popularity = self._compute_popularity()\n",
    "        self.model = self._train_score_model()\n",
    "\n",
    "        self.tier_weights = {\n",
    "            'Bronze': {'eco_score': 1.0, 'refurbished': 1.0, 'popularity': 1.0},\n",
    "            'Silver': {'eco_score': 1.2, 'refurbished': 1.2, 'popularity': 1.0},\n",
    "            'Gold': {'eco_score': 1.4, 'refurbished': 1.4, 'popularity': 0.9},\n",
    "            'Platinum': {'eco_score': 1.6, 'refurbished': 1.6, 'popularity': 0.8}\n",
    "        }\n",
    "\n",
    "    def _compute_popularity(self):\n",
    "        pop = self.events.groupby('itemID')['event_type'].value_counts().unstack().fillna(0)\n",
    "        pop['popularity_score'] = 1 * pop.get('view', 0) + 2 * pop.get('cart', 0) + 3 * pop.get('purchase', 0)\n",
    "        return pop['popularity_score']\n",
    "\n",
    "    def _generate_training_data(self):\n",
    "        merged = self.events.merge(self.products, on='itemID')\n",
    "        merged = merged.merge(self.profiles, on='user_id')\n",
    "\n",
    "        merged['popularity'] = merged['itemID'].map(self.popularity).fillna(0)\n",
    "        merged['eco_score'] = merged['Total(kg CO2e)']\n",
    "        merged['eco_score_norm'] = (merged['eco_score'] - merged['eco_score'].min()) / (merged['eco_score'].max() - merged['eco_score'].min())\n",
    "\n",
    "        merged['category_match'] = 1\n",
    "        merged['refurbished'] = merged['refurbished_available']\n",
    "        merged['price_penalty'] = merged['price'] / merged['avg_spend']\n",
    "\n",
    "        merged['label'] = merged['event_type'].apply(lambda x: 1 if x in ['purchase', 'cart'] else 0)\n",
    "\n",
    "        features = merged[['popularity', 'eco_score_norm', 'category_match', 'refurbished', 'price_penalty']]\n",
    "        labels = merged['label']\n",
    "        return features, labels\n",
    "\n",
    "    def _train_score_model(self):\n",
    "        X, y = self._generate_training_data()\n",
    "        model = LogisticRegression()\n",
    "        model.fit(X, y)\n",
    "        return model\n",
    "\n",
    "    def _compute_features(self, product_row, user_profile, user_tier, green_mode=True):\n",
    "        pop = self.popularity.get(product_row['itemID'], 0)\n",
    "        eco_score = product_row['Total(kg CO2e)']\n",
    "        eco_score_norm = (eco_score - self.products['Total(kg CO2e)'].min()) / (self.products['Total(kg CO2e)'].max() - self.products['Total(kg CO2e)'].min())\n",
    "        category_match = 1\n",
    "        refurbished = product_row['refurbished_available']\n",
    "        price_penalty = product_row['price'] / user_profile['avg_spend']\n",
    "\n",
    "        weights = self.tier_weights.get(user_tier, self.tier_weights['Bronze']) if green_mode else {'eco_score': 1.0, 'refurbished': 1.0, 'popularity': 1.0}\n",
    "\n",
    "\n",
    "        return pd.DataFrame([[pop * weights['popularity'], eco_score_norm * weights['eco_score'], category_match, refurbished * weights['refurbished'], price_penalty]], \n",
    "                            columns=['popularity', 'eco_score_norm', 'category_match', 'refurbished', 'price_penalty'])\n",
    "\n",
    "    def recommend_for_user(self, user_id, top_n=10, green_mode=True, search_query=None):\n",
    "        user_profile = self.profiles[self.profiles['user_id'] == user_id].squeeze()\n",
    "        reward_engine = RewardEngine(\"Dataset/Synthetic_Dataset/user_green_engagement_logs.csv\")\n",
    "        user_tier = reward_engine.get_user_tier(user_id)\n",
    "\n",
    "        # Filter products by search query if provided\n",
    "        if search_query:\n",
    "            search_query_lower = search_query.lower()\n",
    "            product_types = self.products['Product'].dropna().unique()\n",
    "            match = difflib.get_close_matches(search_query_lower, product_types, n=1, cutoff=0.3)\n",
    "            matched_category = match[0] if match else None\n",
    "\n",
    "            main_products = self.products[self.products['Product'].str.lower() == matched_category.lower()] if matched_category else pd.DataFrame()\n",
    "            alt_products = self.products[self.products['Product'].str.lower() != matched_category.lower()] if matched_category else self.products\n",
    "\n",
    "            filtered_products = pd.concat([main_products, alt_products])\n",
    "        else:\n",
    "            filtered_products = self.products\n",
    "\n",
    "        # Vectorized feature computation\n",
    "        pop = filtered_products['itemID'].map(self.popularity).fillna(0)\n",
    "        eco_score = filtered_products['Total(kg CO2e)']\n",
    "        eco_score_norm = (eco_score - self.products['Total(kg CO2e)'].min()) / (self.products['Total(kg CO2e)'].max() - self.products['Total(kg CO2e)'].min())\n",
    "        category_match = 1\n",
    "        refurbished = filtered_products['refurbished_available']\n",
    "        price_penalty = filtered_products['price'] / user_profile['avg_spend']\n",
    "\n",
    "        weights = self.tier_weights.get(user_tier, self.tier_weights['Bronze']) if green_mode else {'eco_score': 1.0, 'refurbished': 1.0, 'popularity': 1.0}\n",
    "\n",
    "        features = pd.DataFrame({\n",
    "            'popularity': pop * weights['popularity'],\n",
    "            'eco_score_norm': eco_score_norm * weights['eco_score'],\n",
    "            'category_match': category_match,\n",
    "            'refurbished': refurbished * weights['refurbished'],\n",
    "            'price_penalty': price_penalty\n",
    "        })\n",
    "\n",
    "        # Batch prediction\n",
    "        scores = self.model.predict_proba(features)[:, 1]\n",
    "        filtered_products = filtered_products.copy()\n",
    "        filtered_products['score'] = scores\n",
    "\n",
    "        if search_query and matched_category:\n",
    "            same_cat = filtered_products[filtered_products['Product'].str.lower() == matched_category.lower()]\n",
    "            same_cat_sorted = same_cat.sort_values(['score', 'Total(kg CO2e)'], ascending=[False, True])\n",
    "\n",
    "            same_cat_ids = set(same_cat_sorted['itemID'])\n",
    "            same_cat_low = filtered_products[(filtered_products['Product'].str.lower() == matched_category.lower()) & (~filtered_products['itemID'].isin(same_cat_ids))]\n",
    "            same_cat_low_sorted = same_cat_low.sort_values('Total(kg CO2e)')\n",
    "\n",
    "            other_cat = filtered_products[filtered_products['Product'].str.lower() != matched_category.lower()]\n",
    "            other_cat_sorted = other_cat.sort_values('Total(kg CO2e)')\n",
    "\n",
    "            top_items = pd.concat([\n",
    "                same_cat_sorted.head(top_n),\n",
    "                same_cat_low_sorted.head(max(0, top_n - len(same_cat_sorted))),\n",
    "                other_cat_sorted.head(max(0, top_n - len(same_cat_sorted) - len(same_cat_low_sorted)))\n",
    "            ]).head(top_n)\n",
    "        else:\n",
    "            if green_mode:\n",
    "                top_items = filtered_products.sort_values(['score', 'Total(kg CO2e)'], ascending=[False, True]).head(top_n)\n",
    "            else:\n",
    "                top_items = filtered_products.sort_values('score', ascending=False).head(top_n)\n",
    "\n",
    "        return top_items[['itemID', 'Product', 'Variety/Size', 'Brand', 'price', 'Total(kg CO2e)', 'refurbished_available']]\n",
    "\n",
    "\n",
    "class RewardEngine:\n",
    "    def __init__(self, behavior_file):\n",
    "        self.behavior = pd.read_csv(behavior_file)\n",
    "\n",
    "    def calculate_rewards(self):\n",
    "        user_rewards = defaultdict(int)\n",
    "\n",
    "        for _, row in self.behavior.iterrows():\n",
    "            eco_score = row['eco_score']\n",
    "            base_reward = max(0, 450 - eco_score) / 45\n",
    "\n",
    "            if row['refurbished']:\n",
    "                base_reward += 2\n",
    "            if row['delivery_type'] == 'delayed':\n",
    "                base_reward += 1\n",
    "            if row['used_green_toggle']:\n",
    "                base_reward += 0.5\n",
    "\n",
    "            user_rewards[row['user_id']] += round(base_reward, 2)\n",
    "\n",
    "        return pd.DataFrame(list(user_rewards.items()), columns=['user_id', 'eco_points'])\n",
    "\n",
    "    def get_user_tier(self, user_id):\n",
    "        df = self.calculate_rewards()\n",
    "        points = df[df['user_id'] == user_id]['eco_points']\n",
    "        if points.empty:\n",
    "            return 'Bronze'\n",
    "        score = points.values[0]\n",
    "\n",
    "        if score >= 180:\n",
    "            return 'Platinum'\n",
    "        elif score >= 140:\n",
    "            return 'Gold'\n",
    "        elif score >= 100:\n",
    "            return 'Silver'\n",
    "        else:\n",
    "            return 'Bronze'\n",
    "        ## These Values are set based on after visualization and analysis of the data\n",
    "        \n",
    "    def get_user_perks(self, user_id):\n",
    "        tier = self.get_user_tier(user_id)\n",
    "\n",
    "        perks = {\n",
    "            'Bronze': [\n",
    "                \"Start earning by using green mode toggle.\",\n",
    "                \"Buy refurbished or delay delivery to earn more points.\"\n",
    "            ],\n",
    "            'Silver': [\n",
    "                \"5% discount on refurbished items.\",\n",
    "                \"Bonus 0.5 pts for every green mode interaction.\"\n",
    "            ],\n",
    "            'Gold': [\n",
    "                \"10% discount on green deliveries.\",\n",
    "                \"Early access to eco-friendly offers.\"\n",
    "            ],\n",
    "            'Platinum': [\n",
    "                \"Free shipping on refurbished products.\",\n",
    "                \"Exclusive platinum-only deals every month.\",\n",
    "                \"15% discount on green delivery items.\"\n",
    "            ]\n",
    "        }\n",
    "\n",
    "        return perks.get(tier, [])\n"
   ]
  },
  {
   "cell_type": "code",
   "execution_count": 3,
   "id": "868227bb",
   "metadata": {},
   "outputs": [],
   "source": [
    "recommender = EcoCartRecommender(\n",
    "    product_file=\"Dataset/Synthetic_Dataset/products_catalog.csv\",\n",
    "    event_file=\"Dataset/Synthetic_Dataset/user_events.csv\",\n",
    "    profile_file=\"Dataset/Synthetic_Dataset/user_profiles.csv\"\n",
    ")\n",
    "\n",
    "reward_engine = RewardEngine(\"Dataset/Synthetic_Dataset/user_green_engagement_logs.csv\") ## Equivalent to the user behavior file"
   ]
  },
  {
   "cell_type": "code",
   "execution_count": 4,
   "id": "abec206c",
   "metadata": {},
   "outputs": [],
   "source": [
    "user_id = 101  # Change as needed"
   ]
  },
  {
   "cell_type": "code",
   "execution_count": 5,
   "id": "1e846403",
   "metadata": {},
   "outputs": [
    {
     "name": "stdout",
     "output_type": "stream",
     "text": [
      "\n",
      "--- Green Mode Recommendations ---\n",
      "     itemID                Product Variety/Size      Brand  price  \\\n",
      "393     393   Air Conditioner (AC)        2 Ton    Hitachi  48040   \n",
      "135     135  Refrigerator (Fridge)        500 L     Godrej  55454   \n",
      "245     245        Television (TV)      43 inch     Xiaomi  32063   \n",
      "132     132        Washing Machine         8 kg    Samsung  29627   \n",
      "362     362   Air Conditioner (AC)        2 Ton     Voltas  40470   \n",
      "60       60  Refrigerator (Fridge)        340 L         LG  36613   \n",
      "468     468  Refrigerator (Fridge)        300 L     Godrej  28532   \n",
      "471     471   Air Conditioner (AC)      1.5 Ton  Blue Star  49620   \n",
      "79       79  Refrigerator (Fridge)        500 L    Samsung  43541   \n",
      "425     425  Refrigerator (Fridge)        240 L  Panasonic  23022   \n",
      "\n",
      "     Total(kg CO2e)  refurbished_available  \n",
      "393          416.30                      1  \n",
      "135          311.85                      1  \n",
      "245          161.71                      1  \n",
      "132          171.00                      1  \n",
      "362          362.00                      1  \n",
      "60           266.56                      1  \n",
      "468          242.55                      1  \n",
      "471          303.00                      1  \n",
      "79           299.25                      1  \n",
      "425          218.00                      1  \n"
     ]
    }
   ],
   "source": [
    "print(\"\\n--- Green Mode Recommendations ---\")\n",
    "print(recommender.recommend_for_user(user_id, green_mode=True))"
   ]
  },
  {
   "cell_type": "code",
   "execution_count": 6,
   "id": "79f02245",
   "metadata": {},
   "outputs": [
    {
     "name": "stdout",
     "output_type": "stream",
     "text": [
      "\n",
      "--- Normal Mode Recommendations ---\n",
      "     itemID                Product Variety/Size      Brand  price  \\\n",
      "245     245        Television (TV)      43 inch     Xiaomi  32063   \n",
      "132     132        Washing Machine         8 kg    Samsung  29627   \n",
      "135     135  Refrigerator (Fridge)        500 L     Godrej  55454   \n",
      "393     393   Air Conditioner (AC)        2 Ton    Hitachi  48040   \n",
      "241     241    Geyser/Water Heater          6 L     Racold   3853   \n",
      "20       20                 Cooler         20 L   Symphony   5549   \n",
      "60       60  Refrigerator (Fridge)        340 L         LG  36613   \n",
      "383     383   Air Conditioner (AC)        1 Ton         LG  34524   \n",
      "488     488                   Fans      48 inch    Havells   2860   \n",
      "479     479        Washing Machine         6 kg  Whirlpool  20203   \n",
      "\n",
      "     Total(kg CO2e)  refurbished_available  \n",
      "245          161.71                      1  \n",
      "132          171.00                      1  \n",
      "135          311.85                      1  \n",
      "393          416.30                      1  \n",
      "241           49.44                      1  \n",
      "20            45.10                      1  \n",
      "60           266.56                      1  \n",
      "383          240.10                      0  \n",
      "488           24.00                      1  \n",
      "479          115.20                      1  \n"
     ]
    }
   ],
   "source": [
    "print(\"\\n--- Normal Mode Recommendations ---\")\n",
    "print(recommender.recommend_for_user(user_id, green_mode=False))"
   ]
  },
  {
   "cell_type": "code",
   "execution_count": 7,
   "id": "a04bff2a",
   "metadata": {},
   "outputs": [
    {
     "name": "stdout",
     "output_type": "stream",
     "text": [
      "\n",
      "--- Green Mode Recommendations ---\n",
      "     itemID          Product Variety/Size      Brand  price  Total(kg CO2e)  \\\n",
      "132     132  Washing Machine         8 kg    Samsung  29627          171.00   \n",
      "479     479  Washing Machine         6 kg  Whirlpool  20203          115.20   \n",
      "34       34  Washing Machine         9 kg         LG  30855          211.68   \n",
      "452     452  Washing Machine         8 kg    Samsung  34021          171.00   \n",
      "397     397  Washing Machine         8 kg      Bosch  33907          172.80   \n",
      "232     232  Washing Machine         7 kg        IFB  29185          139.68   \n",
      "438     438  Washing Machine         7 kg  Whirlpool  20944          138.24   \n",
      "147     147  Washing Machine         7 kg      Bosch  29009          138.24   \n",
      "93       93  Washing Machine         6 kg         LG  23777          117.60   \n",
      "59       59  Washing Machine         8 kg     Godrej  36553          178.20   \n",
      "\n",
      "     refurbished_available  \n",
      "132                      1  \n",
      "479                      1  \n",
      "34                       1  \n",
      "452                      1  \n",
      "397                      1  \n",
      "232                      1  \n",
      "438                      1  \n",
      "147                      1  \n",
      "93                       0  \n",
      "59                       0  \n"
     ]
    }
   ],
   "source": [
    "print(\"\\n--- Green Mode Recommendations ---\")\n",
    "print(recommender.recommend_for_user(user_id, green_mode=True, search_query='Washing Machine'))"
   ]
  },
  {
   "cell_type": "code",
   "execution_count": 16,
   "id": "4c452b09",
   "metadata": {},
   "outputs": [
    {
     "name": "stdout",
     "output_type": "stream",
     "text": [
      "\n",
      "--- Normal Mode Recommendations ---\n",
      "     itemID          Product Variety/Size      Brand  price  Total(kg CO2e)  \\\n",
      "132     132  Washing Machine         8 kg    Samsung  29627          171.00   \n",
      "479     479  Washing Machine         6 kg  Whirlpool  20203          115.20   \n",
      "452     452  Washing Machine         8 kg    Samsung  34021          171.00   \n",
      "34       34  Washing Machine         9 kg         LG  30855          211.68   \n",
      "397     397  Washing Machine         8 kg      Bosch  33907          172.80   \n",
      "93       93  Washing Machine         6 kg         LG  23777          117.60   \n",
      "232     232  Washing Machine         7 kg        IFB  29185          139.68   \n",
      "59       59  Washing Machine         8 kg     Godrej  36553          178.20   \n",
      "438     438  Washing Machine         7 kg  Whirlpool  20944          138.24   \n",
      "147     147  Washing Machine         7 kg      Bosch  29009          138.24   \n",
      "\n",
      "     refurbished_available  \n",
      "132                      1  \n",
      "479                      1  \n",
      "452                      1  \n",
      "34                       1  \n",
      "397                      1  \n",
      "93                       0  \n",
      "232                      1  \n",
      "59                       0  \n",
      "438                      1  \n",
      "147                      1  \n"
     ]
    }
   ],
   "source": [
    "print(\"\\n--- Normal Mode Recommendations ---\")\n",
    "print(recommender.recommend_for_user(user_id, green_mode=False, search_query='Washing Machine'))"
   ]
  },
  {
   "cell_type": "code",
   "execution_count": 8,
   "id": "2a79520a",
   "metadata": {},
   "outputs": [
    {
     "name": "stdout",
     "output_type": "stream",
     "text": [
      "\n",
      "--- Green Mode Recommendations ---\n",
      "     itemID Product Variety/Size     Brand  price  Total(kg CO2e)  \\\n",
      "488     488    Fans      48 inch   Havells   2860           24.00   \n",
      "478     478    Fans      48 inch     Bajaj   2663           24.24   \n",
      "5         5    Fans      48 inch    Orient   2951           26.16   \n",
      "386     386    Fans      48 inch  Atomberg   2294           25.20   \n",
      "463     463    Fans      48 inch     Bajaj   2767           24.24   \n",
      "269     269    Fans      52 inch  Crompton   3251           30.50   \n",
      "237     237    Fans      48 inch     Bajaj   2335           24.24   \n",
      "69       69    Fans      52 inch  Atomberg   3081           32.02   \n",
      "177     177    Fans      48 inch    Orient   2023           26.16   \n",
      "292     292    Fans      48 inch   Havells   2033           24.00   \n",
      "\n",
      "     refurbished_available  \n",
      "488                      1  \n",
      "478                      1  \n",
      "5                        1  \n",
      "386                      1  \n",
      "463                      1  \n",
      "269                      0  \n",
      "237                      1  \n",
      "69                       1  \n",
      "177                      1  \n",
      "292                      1  \n"
     ]
    }
   ],
   "source": [
    "print(\"\\n--- Green Mode Recommendations ---\")\n",
    "print(recommender.recommend_for_user(user_id, green_mode=True, search_query='Fans'))"
   ]
  },
  {
   "cell_type": "code",
   "execution_count": 9,
   "id": "5b96f7a5",
   "metadata": {},
   "outputs": [
    {
     "name": "stdout",
     "output_type": "stream",
     "text": [
      "\n",
      "--- Green Mode Recommendations ---\n",
      "     itemID         Product Variety/Size      Brand  price  Total(kg CO2e)  \\\n",
      "108     108  Water Purifier     RO+UV+UF     Pureit  19224           90.16   \n",
      "51       51  Water Purifier     RO+UV+UF        HUL  13222           92.00   \n",
      "369     369  Water Purifier        RO+UV        HUL   8296           70.00   \n",
      "462     462  Water Purifier     RO+UV+UF  Aquaguard  13526           93.84   \n",
      "262     262  Water Purifier     RO+UV+UF  Blue Star  10446           92.92   \n",
      "181     181  Water Purifier     RO+UV+UF        HUL  14616           92.00   \n",
      "234     234  Water Purifier     RO+UV+UF       Kent  18954           92.00   \n",
      "319     319  Water Purifier     RO+UV+UF    Livpure  11139           96.60   \n",
      "179     179  Water Purifier     RO+UV+UF    Livpure  13241           96.60   \n",
      "109     109  Water Purifier     RO+UV+UF  Blue Star  12226           92.92   \n",
      "\n",
      "     refurbished_available  \n",
      "108                      1  \n",
      "51                       0  \n",
      "369                      1  \n",
      "462                      1  \n",
      "262                      0  \n",
      "181                      1  \n",
      "234                      0  \n",
      "319                      1  \n",
      "179                      1  \n",
      "109                      0  \n"
     ]
    }
   ],
   "source": [
    "print(\"\\n--- Green Mode Recommendations ---\")\n",
    "print(recommender.recommend_for_user(user_id, green_mode=True, search_query='Water Purifier'))"
   ]
  },
  {
   "cell_type": "code",
   "execution_count": 10,
   "id": "cf2f5a09",
   "metadata": {},
   "outputs": [
    {
     "name": "stdout",
     "output_type": "stream",
     "text": [
      "\n",
      "--- Green Mode Recommendations ---\n",
      "     itemID          Product Variety/Size    Brand  price  Total(kg CO2e)  \\\n",
      "245     245  Television (TV)      43 inch   Xiaomi  32063          161.71   \n",
      "1         1  Television (TV)      65 inch     Sony  65187          338.40   \n",
      "106     106  Television (TV)      43 inch       Vu  38538          172.70   \n",
      "226     226  Television (TV)      50 inch   Xiaomi  36715          200.85   \n",
      "156     156  Television (TV)      43 inch     Sony  29865          188.40   \n",
      "101     101  Television (TV)      65 inch  Samsung  64474          267.90   \n",
      "445     445  Television (TV)      50 inch       Vu  46306          214.50   \n",
      "219     219  Television (TV)      65 inch       Vu  71175          310.20   \n",
      "214     214  Television (TV)      50 inch   Xiaomi  49242          200.85   \n",
      "131     131  Television (TV)      32 inch       LG  20524          127.40   \n",
      "\n",
      "     refurbished_available  \n",
      "245                      1  \n",
      "1                        0  \n",
      "106                      1  \n",
      "226                      1  \n",
      "156                      1  \n",
      "101                      0  \n",
      "445                      1  \n",
      "219                      1  \n",
      "214                      0  \n",
      "131                      0  \n"
     ]
    }
   ],
   "source": [
    "print(\"\\n--- Green Mode Recommendations ---\")\n",
    "print(recommender.recommend_for_user(user_id, green_mode=True, search_query='Television (TV)'))"
   ]
  },
  {
   "cell_type": "code",
   "execution_count": 11,
   "id": "dbf57e4f",
   "metadata": {},
   "outputs": [
    {
     "name": "stdout",
     "output_type": "stream",
     "text": [
      "\n",
      "--- Green Mode Recommendations ---\n",
      "     itemID                Product Variety/Size      Brand  price  \\\n",
      "135     135  Refrigerator (Fridge)        500 L     Godrej  55454   \n",
      "60       60  Refrigerator (Fridge)        340 L         LG  36613   \n",
      "468     468  Refrigerator (Fridge)        300 L     Godrej  28532   \n",
      "79       79  Refrigerator (Fridge)        500 L    Samsung  43541   \n",
      "425     425  Refrigerator (Fridge)        240 L  Panasonic  23022   \n",
      "157     157  Refrigerator (Fridge)        240 L     Godrej  27424   \n",
      "144     144  Refrigerator (Fridge)        240 L  Whirlpool  25267   \n",
      "229     229  Refrigerator (Fridge)        190 L      Haier  17227   \n",
      "322     322  Refrigerator (Fridge)        500 L  Whirlpool  41721   \n",
      "238     238  Refrigerator (Fridge)        340 L  Whirlpool  31609   \n",
      "\n",
      "     Total(kg CO2e)  refurbished_available  \n",
      "135          311.85                      1  \n",
      "60           266.56                      1  \n",
      "468          242.55                      1  \n",
      "79           299.25                      1  \n",
      "425          218.00                      1  \n",
      "157          215.82                      1  \n",
      "144          209.28                      1  \n",
      "229          180.00                      1  \n",
      "322          302.40                      0  \n",
      "238          261.12                      0  \n"
     ]
    }
   ],
   "source": [
    "print(\"\\n--- Green Mode Recommendations ---\")\n",
    "print(recommender.recommend_for_user(user_id, green_mode=True, search_query='Refrigerator (Fridge)'))"
   ]
  },
  {
   "cell_type": "code",
   "execution_count": 12,
   "id": "aea02357",
   "metadata": {},
   "outputs": [
    {
     "name": "stdout",
     "output_type": "stream",
     "text": [
      "User 101 Tier: Gold\n"
     ]
    }
   ],
   "source": [
    "print(f\"User {user_id} Tier:\", reward_engine.get_user_tier(user_id))"
   ]
  },
  {
   "cell_type": "code",
   "execution_count": 13,
   "id": "ca32948b",
   "metadata": {},
   "outputs": [
    {
     "name": "stdout",
     "output_type": "stream",
     "text": [
      "--- Perks for You ---\n",
      "• 10% discount on green deliveries.\n",
      "• Early access to eco-friendly offers.\n"
     ]
    }
   ],
   "source": [
    "print(\"--- Perks for You ---\")\n",
    "for perk in reward_engine.get_user_perks(user_id):\n",
    "    print(\"•\", perk)"
   ]
  },
  {
   "cell_type": "code",
   "execution_count": 14,
   "id": "90ce2afd",
   "metadata": {},
   "outputs": [
    {
     "name": "stdout",
     "output_type": "stream",
     "text": [
      "\n",
      "--- User Eco Points ---\n",
      "     user_id  eco_points\n",
      "0        475      170.02\n",
      "1        479      102.27\n",
      "2        323      154.14\n",
      "3        345      118.39\n",
      "4        353      116.89\n",
      "..       ...         ...\n",
      "495       99      114.18\n",
      "496      220       92.79\n",
      "497       97      124.66\n",
      "498      277      150.80\n",
      "499       81       84.66\n",
      "\n",
      "[500 rows x 2 columns]\n"
     ]
    }
   ],
   "source": [
    "print(\"\\n--- User Eco Points ---\")\n",
    "print(reward_engine.calculate_rewards())"
   ]
  },
  {
   "cell_type": "code",
   "execution_count": 15,
   "id": "956e0c54",
   "metadata": {},
   "outputs": [
    {
     "data": {
      "application/vnd.microsoft.datawrangler.viewer.v0+json": {
       "columns": [
        {
         "name": "index",
         "rawType": "int64",
         "type": "integer"
        },
        {
         "name": "user_id",
         "rawType": "int64",
         "type": "integer"
        },
        {
         "name": "eco_points",
         "rawType": "float64",
         "type": "float"
        }
       ],
       "ref": "bd8ebcd0-301a-434a-a2df-893051d71c87",
       "rows": [
        [
         "0",
         "475",
         "170.01999999999998"
        ],
        [
         "1",
         "479",
         "102.27000000000001"
        ],
        [
         "2",
         "323",
         "154.14"
        ],
        [
         "3",
         "345",
         "118.39"
        ],
        [
         "4",
         "353",
         "116.88999999999999"
        ],
        [
         "5",
         "425",
         "154.38"
        ],
        [
         "6",
         "364",
         "170.17000000000002"
        ],
        [
         "7",
         "306",
         "100.6"
        ],
        [
         "8",
         "14",
         "171.63000000000002"
        ],
        [
         "9",
         "52",
         "126.45999999999998"
        ],
        [
         "10",
         "257",
         "87.35"
        ],
        [
         "11",
         "181",
         "181.57000000000002"
        ],
        [
         "12",
         "204",
         "104.21000000000002"
        ],
        [
         "13",
         "20",
         "102.52"
        ],
        [
         "14",
         "155",
         "166.85000000000005"
        ],
        [
         "15",
         "174",
         "187.65000000000003"
        ],
        [
         "16",
         "420",
         "144.72"
        ],
        [
         "17",
         "434",
         "173.50999999999996"
        ],
        [
         "18",
         "399",
         "123.67000000000002"
        ],
        [
         "19",
         "112",
         "132.62"
        ],
        [
         "20",
         "58",
         "162.82000000000002"
        ],
        [
         "21",
         "21",
         "153.45"
        ],
        [
         "22",
         "189",
         "119.65"
        ],
        [
         "23",
         "485",
         "119.17000000000003"
        ],
        [
         "24",
         "326",
         "191.1"
        ],
        [
         "25",
         "26",
         "179.00000000000003"
        ],
        [
         "26",
         "9",
         "142.54999999999998"
        ],
        [
         "27",
         "13",
         "212.86999999999998"
        ],
        [
         "28",
         "387",
         "147.86999999999998"
        ],
        [
         "29",
         "152",
         "126.45999999999998"
        ],
        [
         "30",
         "446",
         "158.50999999999996"
        ],
        [
         "31",
         "25",
         "132.68"
        ],
        [
         "32",
         "111",
         "110.64"
        ],
        [
         "33",
         "251",
         "101.4"
        ],
        [
         "34",
         "324",
         "150.19000000000005"
        ],
        [
         "35",
         "421",
         "179.69"
        ],
        [
         "36",
         "100",
         "177.64"
        ],
        [
         "37",
         "356",
         "137.88"
        ],
        [
         "38",
         "276",
         "207.41000000000003"
        ],
        [
         "39",
         "308",
         "172.08000000000004"
        ],
        [
         "40",
         "350",
         "173.31999999999996"
        ],
        [
         "41",
         "66",
         "163.51000000000005"
        ],
        [
         "42",
         "82",
         "173.34"
        ],
        [
         "43",
         "137",
         "173.96"
        ],
        [
         "44",
         "394",
         "193.30999999999997"
        ],
        [
         "45",
         "290",
         "129.05"
        ],
        [
         "46",
         "269",
         "151.87000000000003"
        ],
        [
         "47",
         "376",
         "153.81"
        ],
        [
         "48",
         "319",
         "176.95999999999998"
        ],
        [
         "49",
         "302",
         "109.67"
        ]
       ],
       "shape": {
        "columns": 2,
        "rows": 500
       }
      },
      "text/html": [
       "<div>\n",
       "<style scoped>\n",
       "    .dataframe tbody tr th:only-of-type {\n",
       "        vertical-align: middle;\n",
       "    }\n",
       "\n",
       "    .dataframe tbody tr th {\n",
       "        vertical-align: top;\n",
       "    }\n",
       "\n",
       "    .dataframe thead th {\n",
       "        text-align: right;\n",
       "    }\n",
       "</style>\n",
       "<table border=\"1\" class=\"dataframe\">\n",
       "  <thead>\n",
       "    <tr style=\"text-align: right;\">\n",
       "      <th></th>\n",
       "      <th>user_id</th>\n",
       "      <th>eco_points</th>\n",
       "    </tr>\n",
       "  </thead>\n",
       "  <tbody>\n",
       "    <tr>\n",
       "      <th>0</th>\n",
       "      <td>475</td>\n",
       "      <td>170.02</td>\n",
       "    </tr>\n",
       "    <tr>\n",
       "      <th>1</th>\n",
       "      <td>479</td>\n",
       "      <td>102.27</td>\n",
       "    </tr>\n",
       "    <tr>\n",
       "      <th>2</th>\n",
       "      <td>323</td>\n",
       "      <td>154.14</td>\n",
       "    </tr>\n",
       "    <tr>\n",
       "      <th>3</th>\n",
       "      <td>345</td>\n",
       "      <td>118.39</td>\n",
       "    </tr>\n",
       "    <tr>\n",
       "      <th>4</th>\n",
       "      <td>353</td>\n",
       "      <td>116.89</td>\n",
       "    </tr>\n",
       "    <tr>\n",
       "      <th>...</th>\n",
       "      <td>...</td>\n",
       "      <td>...</td>\n",
       "    </tr>\n",
       "    <tr>\n",
       "      <th>495</th>\n",
       "      <td>99</td>\n",
       "      <td>114.18</td>\n",
       "    </tr>\n",
       "    <tr>\n",
       "      <th>496</th>\n",
       "      <td>220</td>\n",
       "      <td>92.79</td>\n",
       "    </tr>\n",
       "    <tr>\n",
       "      <th>497</th>\n",
       "      <td>97</td>\n",
       "      <td>124.66</td>\n",
       "    </tr>\n",
       "    <tr>\n",
       "      <th>498</th>\n",
       "      <td>277</td>\n",
       "      <td>150.80</td>\n",
       "    </tr>\n",
       "    <tr>\n",
       "      <th>499</th>\n",
       "      <td>81</td>\n",
       "      <td>84.66</td>\n",
       "    </tr>\n",
       "  </tbody>\n",
       "</table>\n",
       "<p>500 rows × 2 columns</p>\n",
       "</div>"
      ],
      "text/plain": [
       "     user_id  eco_points\n",
       "0        475      170.02\n",
       "1        479      102.27\n",
       "2        323      154.14\n",
       "3        345      118.39\n",
       "4        353      116.89\n",
       "..       ...         ...\n",
       "495       99      114.18\n",
       "496      220       92.79\n",
       "497       97      124.66\n",
       "498      277      150.80\n",
       "499       81       84.66\n",
       "\n",
       "[500 rows x 2 columns]"
      ]
     },
     "execution_count": 15,
     "metadata": {},
     "output_type": "execute_result"
    }
   ],
   "source": [
    "dff = reward_engine.calculate_rewards()\n",
    "\n",
    "dff"
   ]
  },
  {
   "cell_type": "code",
   "execution_count": null,
   "id": "257e2b7c",
   "metadata": {},
   "outputs": [],
   "source": []
  }
 ],
 "metadata": {
  "kernelspec": {
   "display_name": "Python 3",
   "language": "python",
   "name": "python3"
  },
  "language_info": {
   "codemirror_mode": {
    "name": "ipython",
    "version": 3
   },
   "file_extension": ".py",
   "mimetype": "text/x-python",
   "name": "python",
   "nbconvert_exporter": "python",
   "pygments_lexer": "ipython3",
   "version": "3.12.2"
  }
 },
 "nbformat": 4,
 "nbformat_minor": 5
}
