{
 "cells": [
  {
   "cell_type": "code",
   "execution_count": 1,
   "id": "f6942621",
   "metadata": {},
   "outputs": [],
   "source": [
    "import pandas as pd\n",
    "import numpy as np\n",
    "import random\n",
    "from datetime import datetime, timedelta"
   ]
  },
  {
   "cell_type": "code",
   "execution_count": 3,
   "id": "e2666824",
   "metadata": {},
   "outputs": [],
   "source": [
    "products_df = pd.read_csv(\"Dataset/Synthetic_Dataset/products_catalog.csv\")\n",
    "item_ids = products_df['itemID'].tolist()"
   ]
  },
  {
   "cell_type": "code",
   "execution_count": 4,
   "id": "b7fa8037",
   "metadata": {},
   "outputs": [],
   "source": [
    "num_users = 500 # Number of users to simulate\n",
    "num_days = 30 # Number of days to simulate events for\n",
    "event_types = ['view', 'cart', 'purchase']\n",
    "event_probs = [0.80, 0.15, 0.05]  # User behavior probabilities(matches with reality)"
   ]
  },
  {
   "cell_type": "code",
   "execution_count": 5,
   "id": "57396f87",
   "metadata": {},
   "outputs": [],
   "source": [
    "events = []\n",
    "\n",
    "for user_id in range(1, num_users + 1):\n",
    "    # Each user performs actions near about 30 to 150 items in a month\n",
    "    num_interactions = random.randint(30, 150)\n",
    "\n",
    "    for _ in range(num_interactions):\n",
    "        item_id = random.choice(item_ids)\n",
    "\n",
    "        # Bias popular items to appear more\n",
    "        if random.random() < 0.2:\n",
    "            item_id = random.choice(item_ids[:int(len(item_ids) * 0.1)])  # Top 10%\n",
    "\n",
    "        # Generate timestamp in last 30 days\n",
    "        days_ago = random.randint(0, num_days)\n",
    "        seconds_in_day = 86400\n",
    "        rand_seconds = random.randint(0, seconds_in_day)\n",
    "        timestamp = datetime.now() - timedelta(days=days_ago, seconds=rand_seconds)\n",
    "        timestamp_str = timestamp.strftime(\"%Y-%m-%d %H:%M:%S\")\n",
    "\n",
    "        event = np.random.choice(event_types, p=event_probs)\n",
    "\n",
    "        price_seen = products_df[products_df['itemID'] == item_id]['Price'].values[0]\n",
    "\n",
    "        events.append({\n",
    "            \"timestamp\": timestamp_str,\n",
    "            \"user_id\": user_id,\n",
    "            \"event_type\": event,\n",
    "            \"itemID\": item_id,\n",
    "            \"price_seen\": price_seen\n",
    "        })"
   ]
  },
  {
   "cell_type": "code",
   "execution_count": null,
   "id": "b67186be",
   "metadata": {},
   "outputs": [
    {
     "data": {
      "application/vnd.microsoft.datawrangler.viewer.v0+json": {
       "columns": [
        {
         "name": "index",
         "rawType": "int64",
         "type": "integer"
        },
        {
         "name": "timestamp",
         "rawType": "object",
         "type": "string"
        },
        {
         "name": "user_id",
         "rawType": "int64",
         "type": "integer"
        },
        {
         "name": "event_type",
         "rawType": "object",
         "type": "string"
        },
        {
         "name": "itemID",
         "rawType": "int64",
         "type": "integer"
        },
        {
         "name": "price_seen",
         "rawType": "int64",
         "type": "integer"
        }
       ],
       "ref": "69f0923d-6780-4cf1-b6c3-9fbd89a10bdd",
       "rows": [
        [
         "0",
         "2025-06-14 03:57:42",
         "1",
         "view",
         "445",
         "46306"
        ],
        [
         "1",
         "2025-06-19 16:10:32",
         "1",
         "view",
         "529",
         "4170"
        ],
        [
         "2",
         "2025-06-15 14:08:08",
         "1",
         "view",
         "3723",
         "24831"
        ],
        [
         "3",
         "2025-06-21 01:40:41",
         "1",
         "cart",
         "74",
         "35998"
        ],
        [
         "4",
         "2025-06-20 00:31:33",
         "1",
         "view",
         "555",
         "25283"
        ]
       ],
       "shape": {
        "columns": 5,
        "rows": 5
       }
      },
      "text/html": [
       "<div>\n",
       "<style scoped>\n",
       "    .dataframe tbody tr th:only-of-type {\n",
       "        vertical-align: middle;\n",
       "    }\n",
       "\n",
       "    .dataframe tbody tr th {\n",
       "        vertical-align: top;\n",
       "    }\n",
       "\n",
       "    .dataframe thead th {\n",
       "        text-align: right;\n",
       "    }\n",
       "</style>\n",
       "<table border=\"1\" class=\"dataframe\">\n",
       "  <thead>\n",
       "    <tr style=\"text-align: right;\">\n",
       "      <th></th>\n",
       "      <th>timestamp</th>\n",
       "      <th>user_id</th>\n",
       "      <th>event_type</th>\n",
       "      <th>itemID</th>\n",
       "      <th>price_seen</th>\n",
       "    </tr>\n",
       "  </thead>\n",
       "  <tbody>\n",
       "    <tr>\n",
       "      <th>0</th>\n",
       "      <td>2025-06-14 03:57:42</td>\n",
       "      <td>1</td>\n",
       "      <td>view</td>\n",
       "      <td>445</td>\n",
       "      <td>46306</td>\n",
       "    </tr>\n",
       "    <tr>\n",
       "      <th>1</th>\n",
       "      <td>2025-06-19 16:10:32</td>\n",
       "      <td>1</td>\n",
       "      <td>view</td>\n",
       "      <td>529</td>\n",
       "      <td>4170</td>\n",
       "    </tr>\n",
       "    <tr>\n",
       "      <th>2</th>\n",
       "      <td>2025-06-15 14:08:08</td>\n",
       "      <td>1</td>\n",
       "      <td>view</td>\n",
       "      <td>3723</td>\n",
       "      <td>24831</td>\n",
       "    </tr>\n",
       "    <tr>\n",
       "      <th>3</th>\n",
       "      <td>2025-06-21 01:40:41</td>\n",
       "      <td>1</td>\n",
       "      <td>cart</td>\n",
       "      <td>74</td>\n",
       "      <td>35998</td>\n",
       "    </tr>\n",
       "    <tr>\n",
       "      <th>4</th>\n",
       "      <td>2025-06-20 00:31:33</td>\n",
       "      <td>1</td>\n",
       "      <td>view</td>\n",
       "      <td>555</td>\n",
       "      <td>25283</td>\n",
       "    </tr>\n",
       "  </tbody>\n",
       "</table>\n",
       "</div>"
      ],
      "text/plain": [
       "             timestamp  user_id event_type  itemID  price_seen\n",
       "0  2025-06-14 03:57:42        1       view     445       46306\n",
       "1  2025-06-19 16:10:32        1       view     529        4170\n",
       "2  2025-06-15 14:08:08        1       view    3723       24831\n",
       "3  2025-06-21 01:40:41        1       cart      74       35998\n",
       "4  2025-06-20 00:31:33        1       view     555       25283"
      ]
     },
     "execution_count": 6,
     "metadata": {},
     "output_type": "execute_result"
    }
   ],
   "source": [
    "events_df = pd.DataFrame(events)\n",
    "\n",
    "events_df.head()"
   ]
  },
  {
   "cell_type": "code",
   "execution_count": 7,
   "id": "6b963d77",
   "metadata": {},
   "outputs": [
    {
     "data": {
      "text/plain": [
       "(45624, 5)"
      ]
     },
     "execution_count": 7,
     "metadata": {},
     "output_type": "execute_result"
    }
   ],
   "source": [
    "events_df.shape"
   ]
  },
  {
   "cell_type": "code",
   "execution_count": 8,
   "id": "bbea395e",
   "metadata": {},
   "outputs": [],
   "source": [
    "events_df = events_df.sample(frac=1).reset_index(drop=True)"
   ]
  },
  {
   "cell_type": "code",
   "execution_count": 9,
   "id": "087bde47",
   "metadata": {},
   "outputs": [
    {
     "data": {
      "application/vnd.microsoft.datawrangler.viewer.v0+json": {
       "columns": [
        {
         "name": "index",
         "rawType": "int64",
         "type": "integer"
        },
        {
         "name": "timestamp",
         "rawType": "object",
         "type": "string"
        },
        {
         "name": "user_id",
         "rawType": "int64",
         "type": "integer"
        },
        {
         "name": "event_type",
         "rawType": "object",
         "type": "string"
        },
        {
         "name": "itemID",
         "rawType": "int64",
         "type": "integer"
        },
        {
         "name": "price_seen",
         "rawType": "int64",
         "type": "integer"
        }
       ],
       "ref": "6a63afad-aa74-48cd-828f-f6bc10ea1521",
       "rows": [
        [
         "0",
         "2025-06-27 14:24:50",
         "139",
         "view",
         "148",
         "5413"
        ],
        [
         "1",
         "2025-06-19 04:54:59",
         "442",
         "view",
         "4255",
         "50151"
        ],
        [
         "2",
         "2025-06-03 17:46:31",
         "363",
         "cart",
         "1305",
         "26641"
        ],
        [
         "3",
         "2025-06-12 07:33:13",
         "364",
         "view",
         "2296",
         "117865"
        ],
        [
         "4",
         "2025-06-22 17:58:37",
         "424",
         "view",
         "222",
         "42484"
        ]
       ],
       "shape": {
        "columns": 5,
        "rows": 5
       }
      },
      "text/html": [
       "<div>\n",
       "<style scoped>\n",
       "    .dataframe tbody tr th:only-of-type {\n",
       "        vertical-align: middle;\n",
       "    }\n",
       "\n",
       "    .dataframe tbody tr th {\n",
       "        vertical-align: top;\n",
       "    }\n",
       "\n",
       "    .dataframe thead th {\n",
       "        text-align: right;\n",
       "    }\n",
       "</style>\n",
       "<table border=\"1\" class=\"dataframe\">\n",
       "  <thead>\n",
       "    <tr style=\"text-align: right;\">\n",
       "      <th></th>\n",
       "      <th>timestamp</th>\n",
       "      <th>user_id</th>\n",
       "      <th>event_type</th>\n",
       "      <th>itemID</th>\n",
       "      <th>price_seen</th>\n",
       "    </tr>\n",
       "  </thead>\n",
       "  <tbody>\n",
       "    <tr>\n",
       "      <th>0</th>\n",
       "      <td>2025-06-27 14:24:50</td>\n",
       "      <td>139</td>\n",
       "      <td>view</td>\n",
       "      <td>148</td>\n",
       "      <td>5413</td>\n",
       "    </tr>\n",
       "    <tr>\n",
       "      <th>1</th>\n",
       "      <td>2025-06-19 04:54:59</td>\n",
       "      <td>442</td>\n",
       "      <td>view</td>\n",
       "      <td>4255</td>\n",
       "      <td>50151</td>\n",
       "    </tr>\n",
       "    <tr>\n",
       "      <th>2</th>\n",
       "      <td>2025-06-03 17:46:31</td>\n",
       "      <td>363</td>\n",
       "      <td>cart</td>\n",
       "      <td>1305</td>\n",
       "      <td>26641</td>\n",
       "    </tr>\n",
       "    <tr>\n",
       "      <th>3</th>\n",
       "      <td>2025-06-12 07:33:13</td>\n",
       "      <td>364</td>\n",
       "      <td>view</td>\n",
       "      <td>2296</td>\n",
       "      <td>117865</td>\n",
       "    </tr>\n",
       "    <tr>\n",
       "      <th>4</th>\n",
       "      <td>2025-06-22 17:58:37</td>\n",
       "      <td>424</td>\n",
       "      <td>view</td>\n",
       "      <td>222</td>\n",
       "      <td>42484</td>\n",
       "    </tr>\n",
       "  </tbody>\n",
       "</table>\n",
       "</div>"
      ],
      "text/plain": [
       "             timestamp  user_id event_type  itemID  price_seen\n",
       "0  2025-06-27 14:24:50      139       view     148        5413\n",
       "1  2025-06-19 04:54:59      442       view    4255       50151\n",
       "2  2025-06-03 17:46:31      363       cart    1305       26641\n",
       "3  2025-06-12 07:33:13      364       view    2296      117865\n",
       "4  2025-06-22 17:58:37      424       view     222       42484"
      ]
     },
     "execution_count": 9,
     "metadata": {},
     "output_type": "execute_result"
    }
   ],
   "source": [
    "events_df.head()"
   ]
  },
  {
   "cell_type": "code",
   "execution_count": 10,
   "id": "fa57ca02",
   "metadata": {},
   "outputs": [],
   "source": [
    "events_df.to_csv(\"user_events.csv\", index=False)"
   ]
  },
  {
   "cell_type": "code",
   "execution_count": null,
   "id": "2aed1c5d",
   "metadata": {},
   "outputs": [],
   "source": []
  }
 ],
 "metadata": {
  "kernelspec": {
   "display_name": "Python 3",
   "language": "python",
   "name": "python3"
  },
  "language_info": {
   "codemirror_mode": {
    "name": "ipython",
    "version": 3
   },
   "file_extension": ".py",
   "mimetype": "text/x-python",
   "name": "python",
   "nbconvert_exporter": "python",
   "pygments_lexer": "ipython3",
   "version": "3.12.2"
  }
 },
 "nbformat": 4,
 "nbformat_minor": 5
}
