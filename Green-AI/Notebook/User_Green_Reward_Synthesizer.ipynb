{
 "cells": [
  {
   "cell_type": "code",
   "execution_count": 9,
   "id": "56f68b91",
   "metadata": {},
   "outputs": [],
   "source": [
    "import pandas as pd\n",
    "import numpy as np"
   ]
  },
  {
   "cell_type": "code",
   "execution_count": 10,
   "id": "809fab7b",
   "metadata": {},
   "outputs": [],
   "source": [
    "logs = pd.read_csv('Dataset/Synthetic_Dataset/user_green_engagement_logs.csv')"
   ]
  },
  {
   "cell_type": "code",
   "execution_count": 11,
   "id": "e59188da",
   "metadata": {},
   "outputs": [],
   "source": [
    "grouped = logs.groupby('user_id')"
   ]
  },
  {
   "cell_type": "code",
   "execution_count": 12,
   "id": "5dd0fab9",
   "metadata": {},
   "outputs": [],
   "source": [
    "rows = []\n",
    "for user_id, df in grouped:\n",
    "    refurbished_count = df[df['refurbished'] == 1].shape[0]\n",
    "    delayed_count = df[df['delivery_type'] == 'delayed'].shape[0]\n",
    "    green_toggle_count = df[df['used_green_toggle'] == 1].shape[0]\n",
    "    \n",
    "    green_action = df[df['used_green_toggle'] == 1]\n",
    "    eco_saving = max(0, 450 * len(green_action) - green_action['eco_score'].sum()) ## Assuming 450 is the max eco score per action\n",
    "    avg_eco_saved = eco_saving / len(green_action) if len(green_action) > 0 else 0\n",
    "    \n",
    "    total_green_actions = refurbished_count + delayed_count + green_toggle_count\n",
    "    \n",
    "    reward_points = total_green_actions * 10 + avg_eco_saved * 0.1 # Reward points: 10 pts per green action, 0.1 pt per kg CO2 saved\n",
    "    \n",
    "    if reward_points >= 320:\n",
    "        tier = 'Platinum'\n",
    "    elif reward_points >= 240:\n",
    "        tier = 'Gold'\n",
    "    elif reward_points >= 160:\n",
    "        tier = 'Silver'\n",
    "    else:\n",
    "        tier = 'Bronze'\n",
    "        \n",
    "    rows.append([\n",
    "        user_id, \n",
    "        total_green_actions, \n",
    "        round(avg_eco_saved, 2),\n",
    "        refurbished_count,\n",
    "        delayed_count,\n",
    "        green_toggle_count,\n",
    "        int(reward_points),\n",
    "        tier\n",
    "    ])"
   ]
  },
  {
   "cell_type": "code",
   "execution_count": 13,
   "id": "68e10584",
   "metadata": {},
   "outputs": [],
   "source": [
    "columns = [\n",
    "    'user_id', 'total_green_actions', 'avg_eco_score_saved',\n",
    "    'refurbished_count', 'delayed_delivery_count', 'green_toggle_used',\n",
    "    'reward_points', 'tier'\n",
    "]"
   ]
  },
  {
   "cell_type": "code",
   "execution_count": 14,
   "id": "3a4ce68c",
   "metadata": {},
   "outputs": [],
   "source": [
    "rewards_df = pd.DataFrame(rows, columns=columns)\n",
    "rewards_df.to_csv('Dataset/Synthetic_Dataset/user_green_rewards.csv', index=False)"
   ]
  },
  {
   "cell_type": "code",
   "execution_count": null,
   "id": "990d3051",
   "metadata": {},
   "outputs": [],
   "source": []
  }
 ],
 "metadata": {
  "kernelspec": {
   "display_name": "Python 3",
   "language": "python",
   "name": "python3"
  },
  "language_info": {
   "codemirror_mode": {
    "name": "ipython",
    "version": 3
   },
   "file_extension": ".py",
   "mimetype": "text/x-python",
   "name": "python",
   "nbconvert_exporter": "python",
   "pygments_lexer": "ipython3",
   "version": "3.12.2"
  }
 },
 "nbformat": 4,
 "nbformat_minor": 5
}
