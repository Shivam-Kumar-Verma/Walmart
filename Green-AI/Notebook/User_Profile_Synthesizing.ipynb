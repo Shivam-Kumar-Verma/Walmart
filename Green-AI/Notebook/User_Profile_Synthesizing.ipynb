{
 "cells": [
  {
   "cell_type": "code",
   "execution_count": 1,
   "id": "74edc498",
   "metadata": {},
   "outputs": [],
   "source": [
    "import pandas as pd\n",
    "import numpy as np"
   ]
  },
  {
   "cell_type": "code",
   "execution_count": 3,
   "id": "e3ae3814",
   "metadata": {},
   "outputs": [],
   "source": [
    "events_df = pd.read_csv(\"Dataset/Synthetic_Dataset/user_events.csv\")"
   ]
  },
  {
   "cell_type": "code",
   "execution_count": 4,
   "id": "1c5db71c",
   "metadata": {},
   "outputs": [],
   "source": [
    "user_profiles = []\n",
    "\n",
    "for user_id, user_df in events_df.groupby(\"user_id\"):\n",
    "    total_purchases = len(user_df[user_df['event_type'] == 'purchase'])\n",
    "    total_interactions = len(user_df)\n",
    "    \n",
    "    if total_purchases > 0:\n",
    "        avg_spend = user_df[user_df['event_type'] == 'purchase'][\"price_seen\"].mean()\n",
    "    else:\n",
    "        avg_spend = user_df[\"price_seen\"].mean()\n",
    "\n",
    "    # Eco-awareness: % of items purchased with CO2e < 300\n",
    "    merged = user_df.merge(\n",
    "        pd.read_csv(\"Dataset/Synthetic_Dataset/products_catalog.csv\")[[\"itemID\", \"Total(kg CO2e)\", \"refurbished_available\"]],\n",
    "        on=\"itemID\",\n",
    "        how=\"left\"\n",
    "    )\n",
    "\n",
    "    eco_purchases = merged[(merged[\"event_type\"] == \"purchase\") & (merged[\"Total(kg CO2e)\"] < 300)]\n",
    "    refurb_purchases = merged[(merged[\"event_type\"] == \"purchase\") & (merged[\"refurbished_available\"] == 1)]\n",
    "\n",
    "    eco_awareness = len(eco_purchases) / total_purchases if total_purchases > 0 else 0\n",
    "    refurb_pref = 1 if len(refurb_purchases) >= 1 else 0\n",
    "    delay_tolerant = 1 if np.random.rand() < 0.6 else 0  # Simulate preference for delayed delivery\n",
    "\n",
    "    user_profiles.append({\n",
    "        \"user_id\": user_id,\n",
    "        \"avg_spend\": round(avg_spend, 2),\n",
    "        \"eco_awareness\": round(eco_awareness, 2),\n",
    "        \"refurb_pref\": refurb_pref,\n",
    "        \"delay_tolerant\": delay_tolerant\n",
    "    })\n"
   ]
  },
  {
   "cell_type": "code",
   "execution_count": 5,
   "id": "24f29e0a",
   "metadata": {},
   "outputs": [
    {
     "data": {
      "application/vnd.microsoft.datawrangler.viewer.v0+json": {
       "columns": [
        {
         "name": "index",
         "rawType": "int64",
         "type": "integer"
        },
        {
         "name": "user_id",
         "rawType": "int64",
         "type": "integer"
        },
        {
         "name": "avg_spend",
         "rawType": "float64",
         "type": "float"
        },
        {
         "name": "eco_awareness",
         "rawType": "float64",
         "type": "float"
        },
        {
         "name": "refurb_pref",
         "rawType": "int64",
         "type": "integer"
        },
        {
         "name": "delay_tolerant",
         "rawType": "int64",
         "type": "integer"
        }
       ],
       "ref": "e1a5bd0b-bdb5-415a-b417-e8ad4beaede1",
       "rows": [
        [
         "0",
         "1",
         "24447.25",
         "1.0",
         "1",
         "0"
        ],
        [
         "1",
         "2",
         "28625.0",
         "0.8",
         "1",
         "1"
        ],
        [
         "2",
         "3",
         "29251.75",
         "0.75",
         "1",
         "1"
        ],
        [
         "3",
         "4",
         "17817.5",
         "0.67",
         "1",
         "1"
        ],
        [
         "4",
         "5",
         "28321.83",
         "0.83",
         "1",
         "1"
        ]
       ],
       "shape": {
        "columns": 5,
        "rows": 5
       }
      },
      "text/html": [
       "<div>\n",
       "<style scoped>\n",
       "    .dataframe tbody tr th:only-of-type {\n",
       "        vertical-align: middle;\n",
       "    }\n",
       "\n",
       "    .dataframe tbody tr th {\n",
       "        vertical-align: top;\n",
       "    }\n",
       "\n",
       "    .dataframe thead th {\n",
       "        text-align: right;\n",
       "    }\n",
       "</style>\n",
       "<table border=\"1\" class=\"dataframe\">\n",
       "  <thead>\n",
       "    <tr style=\"text-align: right;\">\n",
       "      <th></th>\n",
       "      <th>user_id</th>\n",
       "      <th>avg_spend</th>\n",
       "      <th>eco_awareness</th>\n",
       "      <th>refurb_pref</th>\n",
       "      <th>delay_tolerant</th>\n",
       "    </tr>\n",
       "  </thead>\n",
       "  <tbody>\n",
       "    <tr>\n",
       "      <th>0</th>\n",
       "      <td>1</td>\n",
       "      <td>24447.25</td>\n",
       "      <td>1.00</td>\n",
       "      <td>1</td>\n",
       "      <td>0</td>\n",
       "    </tr>\n",
       "    <tr>\n",
       "      <th>1</th>\n",
       "      <td>2</td>\n",
       "      <td>28625.00</td>\n",
       "      <td>0.80</td>\n",
       "      <td>1</td>\n",
       "      <td>1</td>\n",
       "    </tr>\n",
       "    <tr>\n",
       "      <th>2</th>\n",
       "      <td>3</td>\n",
       "      <td>29251.75</td>\n",
       "      <td>0.75</td>\n",
       "      <td>1</td>\n",
       "      <td>1</td>\n",
       "    </tr>\n",
       "    <tr>\n",
       "      <th>3</th>\n",
       "      <td>4</td>\n",
       "      <td>17817.50</td>\n",
       "      <td>0.67</td>\n",
       "      <td>1</td>\n",
       "      <td>1</td>\n",
       "    </tr>\n",
       "    <tr>\n",
       "      <th>4</th>\n",
       "      <td>5</td>\n",
       "      <td>28321.83</td>\n",
       "      <td>0.83</td>\n",
       "      <td>1</td>\n",
       "      <td>1</td>\n",
       "    </tr>\n",
       "  </tbody>\n",
       "</table>\n",
       "</div>"
      ],
      "text/plain": [
       "   user_id  avg_spend  eco_awareness  refurb_pref  delay_tolerant\n",
       "0        1   24447.25           1.00            1               0\n",
       "1        2   28625.00           0.80            1               1\n",
       "2        3   29251.75           0.75            1               1\n",
       "3        4   17817.50           0.67            1               1\n",
       "4        5   28321.83           0.83            1               1"
      ]
     },
     "execution_count": 5,
     "metadata": {},
     "output_type": "execute_result"
    }
   ],
   "source": [
    "user_profiles_df = pd.DataFrame(user_profiles)\n",
    "\n",
    "user_profiles_df.head()"
   ]
  },
  {
   "cell_type": "code",
   "execution_count": 6,
   "id": "d77080b7",
   "metadata": {},
   "outputs": [],
   "source": [
    "user_profiles_df.to_csv(\"Dataset/Synthetic_Dataset/user_profiles.csv\", index=False)"
   ]
  },
  {
   "cell_type": "code",
   "execution_count": null,
   "id": "1bb43075",
   "metadata": {},
   "outputs": [],
   "source": []
  }
 ],
 "metadata": {
  "kernelspec": {
   "display_name": "Python 3",
   "language": "python",
   "name": "python3"
  },
  "language_info": {
   "codemirror_mode": {
    "name": "ipython",
    "version": 3
   },
   "file_extension": ".py",
   "mimetype": "text/x-python",
   "name": "python",
   "nbconvert_exporter": "python",
   "pygments_lexer": "ipython3",
   "version": "3.12.2"
  }
 },
 "nbformat": 4,
 "nbformat_minor": 5
}
